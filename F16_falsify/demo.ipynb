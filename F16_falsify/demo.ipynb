{
 "cells": [
  {
   "cell_type": "code",
   "execution_count": 1,
   "metadata": {},
   "outputs": [],
   "source": [
    "import numpy as np\n",
    "import pickle\n",
    "import warnings\n",
    "import matplotlib.pyplot as plt\n",
    "warnings.filterwarnings(\"ignore\")\n",
    "\n",
    "%load_ext autoreload\n",
    "%autoreload 2"
   ]
  },
  {
   "cell_type": "markdown",
   "metadata": {},
   "source": [
    "# Simulation"
   ]
  },
  {
   "cell_type": "markdown",
   "metadata": {},
   "source": [
    "The plant is controlled by a neural network.  \n",
    "Calling `gcas_simulation(initial_state, initial_time)` for a 15 seconds simulation.  "
   ]
  },
  {
   "cell_type": "code",
   "execution_count": 2,
   "metadata": {},
   "outputs": [
    {
     "name": "stdout",
     "output_type": "stream",
     "text": [
      "Passed: True\n"
     ]
    }
   ],
   "source": [
    "from utils.simulation import gcas_simulation, initial_space\n",
    "from CoRec.envs.F16.AeroBenchVVPython.code.plot import plot3d_anim, plot3d\n",
    "\n",
    "l, h = initial_space()\n",
    "initial_state = (np.random.uniform(l, h))\n",
    "passed, times, states, modes, ps_list, Nz_list, u_list = gcas_simulation(initial_state, 0)\n",
    "print(f\"Passed: {passed}\")"
   ]
  },
  {
   "cell_type": "code",
   "execution_count": 3,
   "metadata": {},
   "outputs": [],
   "source": [
    "with open(\"results/traj.pkl\", \"wb\") as f:\n",
    "    pickle.dump([times, states], f)"
   ]
  },
  {
   "cell_type": "markdown",
   "metadata": {},
   "source": [
    "Generating animation will take several minutes."
   ]
  },
  {
   "cell_type": "code",
   "execution_count": 4,
   "metadata": {},
   "outputs": [],
   "source": [
    "# plot3d_anim(times, states, modes, ps_list, Nz_list, filename=\"results/f16_passed.gif\")"
   ]
  },
  {
   "cell_type": "markdown",
   "metadata": {},
   "source": [
    "![F16 Passed](results/f16_passed.gif)"
   ]
  },
  {
   "cell_type": "markdown",
   "metadata": {},
   "source": [
    "# Falsify"
   ]
  },
  {
   "cell_type": "markdown",
   "metadata": {},
   "source": [
    "Adding perturbation around above simulation trajectory for falsifing the control system.  \n",
    "Support multiprocess attack, set the threads number and attack step like following code.  \n",
    "Paralization is based on Ray. "
   ]
  },
  {
   "cell_type": "code",
   "execution_count": 5,
   "metadata": {},
   "outputs": [
    {
     "name": "stderr",
     "output_type": "stream",
     "text": [
      "2020-10-09 22:07:45,119\tINFO services.py:1166 -- View the Ray dashboard at \u001b[1m\u001b[32mhttp://127.0.0.1:8265\u001b[39m\u001b[22m\n"
     ]
    }
   ],
   "source": [
    "from falsify.para import apply_para\n",
    "from falsify.bo import F16SimulationFunction, EvaluatedFunction, attack\n",
    "attack_threads = 2\n",
    "attack_step = 20"
   ]
  },
  {
   "cell_type": "code",
   "execution_count": 8,
   "metadata": {},
   "outputs": [],
   "source": [
    "unsafe_states = []\n",
    "for i in range(int(attack_step/attack_threads)):\n",
    "    eval_fns = [EvaluatedFunction(F16SimulationFunction(t)) for t in times[i*attack_threads:(i+1)*attack_threads]]\n",
    "    delta = (h-l)/2\n",
    "    attack_traj = np.array(states)[i*attack_threads:(i+1)*attack_threads]\n",
    "    attack_spaces = [[attack_traj[j]-delta, attack_traj[j]+delta] for j in range(attack_threads)]\n",
    "    args = [[eval_fn, space] for eval_fn, space in zip(eval_fns, attack_spaces)]\n",
    "    _unsafe_states = apply_para(attack, args)\n",
    "    unsafe_states.append(_unsafe_states)"
   ]
  },
  {
   "cell_type": "markdown",
   "metadata": {},
   "source": [
    "Find one unsafe state when simulation runs to 0.19s."
   ]
  },
  {
   "cell_type": "code",
   "execution_count": 18,
   "metadata": {},
   "outputs": [
    {
     "name": "stdout",
     "output_type": "stream",
     "text": [
      "Find unsafe state: \n",
      "[ 5.65270094e+02  2.58062642e-02  2.21452047e-03  7.92783488e-01\n",
      " -1.25981053e+00 -8.02283545e-01 -1.24473254e-03 -8.09482788e-03\n",
      "  2.69601764e-03  2.01781729e+01 -2.37740480e+01  3.49880148e+03\n",
      "  7.26968119e+00  3.13598870e-02 -5.87374181e-05  2.98813527e-04] \n",
      "when t = 0.19 s\n"
     ]
    }
   ],
   "source": [
    "unsafe_t = unsafe_states[-1][-1][0][0]\n",
    "unsafe_state = unsafe_states[-1][-1][0][1]\n",
    "print(f\"Find unsafe state: \\n{np.array(unsafe_state)} \\nwhen t = {str(unsafe_t)[:4]} s\")"
   ]
  },
  {
   "cell_type": "code",
   "execution_count": 21,
   "metadata": {},
   "outputs": [
    {
     "name": "stdout",
     "output_type": "stream",
     "text": [
      "Passed: False\n"
     ]
    }
   ],
   "source": [
    "passed, times, states, modes, ps_list, Nz_list, u_list = gcas_simulation(unsafe_state, unsafe_t)\n",
    "print(f\"Passed: {passed}\")"
   ]
  },
  {
   "cell_type": "code",
   "execution_count": 23,
   "metadata": {},
   "outputs": [],
   "source": [
    "# plot3d_anim(times, states, modes, ps_list, Nz_list, filename=\"results/f16_unsafe.gif\")"
   ]
  },
  {
   "cell_type": "markdown",
   "metadata": {},
   "source": [
    "![F16 Passed](results/f16_unsafe.gif)"
   ]
  }
 ],
 "metadata": {
  "kernelspec": {
   "display_name": "Python 3",
   "language": "python",
   "name": "python3"
  },
  "language_info": {
   "codemirror_mode": {
    "name": "ipython",
    "version": 3
   },
   "file_extension": ".py",
   "mimetype": "text/x-python",
   "name": "python",
   "nbconvert_exporter": "python",
   "pygments_lexer": "ipython3",
   "version": "3.8.5"
  }
 },
 "nbformat": 4,
 "nbformat_minor": 4
}
